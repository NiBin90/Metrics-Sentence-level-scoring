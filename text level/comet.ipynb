{
 "cells": [
  {
   "cell_type": "code",
   "execution_count": null,
   "metadata": {},
   "outputs": [],
   "source": [
    "def get_txt_contents(f_name):\n",
    "    with open(f_name, encoding=\"utf8\") as f:\n",
    "        l=[\" \".join(i.split(\".\")[1:]).strip() for i in f.readlines()]\n",
    "        return l"
   ]
  },
  {
   "cell_type": "code",
   "execution_count": null,
   "metadata": {},
   "outputs": [],
   "source": [
    "from comet.models import download_model\n",
    "model = download_model(\"wmt-large-da-estimator-1719\")\n",
    "import os\n",
    "mts_files = []\n",
    "for _,_,d in os.walk(\"./data/E-C transcripts-sentence-txt\"):\n",
    "    mts_files=d\n",
    "refs_files = []\n",
    "for _,_,d in os.walk(\"./data/references\"):\n",
    "    refs_files=d\n",
    "source = get_txt_contents(\"./data/source.txt\")"
   ]
  },
  {
   "cell_type": "code",
   "execution_count": null,
   "metadata": {},
   "outputs": [],
   "source": [
    "source"
   ]
  },
  {
   "cell_type": "code",
   "execution_count": null,
   "metadata": {},
   "outputs": [],
   "source": [
    "refs_files"
   ]
  },
  {
   "cell_type": "code",
   "execution_count": null,
   "metadata": {},
   "outputs": [],
   "source": [
    "scores = {}\n",
    "for mt_file in mts_files:\n",
    "    mt = get_txt_contents(\"./data/E-C transcripts-sentence-txt/\"+mt_file)\n",
    "    for ref_file in refs_files:\n",
    "        ref = get_txt_contents(\"./data/references/EC/\"+ref_file)\n",
    "        data = {\"src\": source, \"mt\": mt, \"ref\": ref}\n",
    "        data = [dict(zip(data, t)) for t in zip(*data.values())]\n",
    "        score = model.predict(data, cuda=True, show_progress=True)[1]\n",
    "        if mt_file not in scores:\n",
    "            scores[mt_file]={}\n",
    "        scores[mt_file][ref_file]=score"
   ]
  },
  {
   "cell_type": "code",
   "execution_count": null,
   "metadata": {},
   "outputs": [],
   "source": [
    "scores"
   ]
  },
  {
   "cell_type": "code",
   "execution_count": null,
   "metadata": {},
   "outputs": [],
   "source": [
    "import json\n",
    "with open(\"scores.json\",\"w\") as f:\n",
    "    json.dump(scores, f, indent=4)"
   ]
  },
  {
   "cell_type": "code",
   "execution_count": null,
   "metadata": {},
   "outputs": [],
   "source": [
    "def cal_avg(l):\n",
    "    return sum(l)/len(l)"
   ]
  },
  {
   "cell_type": "code",
   "execution_count": null,
   "metadata": {},
   "outputs": [],
   "source": [
    "cal_avg([1,2,3.4])"
   ]
  },
  {
   "cell_type": "markdown",
   "metadata": {},
   "source": [
    "## 一个参考文献，NEW"
   ]
  },
  {
   "cell_type": "code",
   "execution_count": null,
   "metadata": {},
   "outputs": [],
   "source": [
    "ref_new_scores = {}\n",
    "for k in scores:\n",
    "    if k not in ref_new_scores:\n",
    "        ref_new_scores[k] = {}\n",
    "    ref_new_scores[k][\"scores\"] = scores[k][\"Ref_sentence_New.txt\"]\n",
    "    ref_new_scores[k][\"avg\"] = cal_avg(scores[k][\"Ref_sentence_New.txt\"])"
   ]
  },
  {
   "cell_type": "code",
   "execution_count": null,
   "metadata": {},
   "outputs": [],
   "source": [
    "ref_new_scores"
   ]
  },
  {
   "cell_type": "code",
   "execution_count": null,
   "metadata": {},
   "outputs": [],
   "source": [
    "import json\n",
    "with open(\"ref_new_scores.json\",\"w\") as f:\n",
    "    json.dump(ref_new_scores, f, indent=4)"
   ]
  },
  {
   "cell_type": "code",
   "execution_count": null,
   "metadata": {},
   "outputs": [],
   "source": [
    "with open(\"ref_new_scores.txt\", \"w\") as f:\n",
    "    for k in ref_new_scores:\n",
    "        f.write(k+\"\\t\"+str(ref_new_scores[k][\"avg\"])+\"\\n\")"
   ]
  },
  {
   "cell_type": "code",
   "execution_count": null,
   "metadata": {},
   "outputs": [],
   "source": [
    "scores"
   ]
  },
  {
   "cell_type": "markdown",
   "metadata": {},
   "source": [
    "## 4个参考文献"
   ]
  },
  {
   "cell_type": "code",
   "execution_count": null,
   "metadata": {},
   "outputs": [],
   "source": [
    "ref_4_scores = {}\n",
    "for k in scores:\n",
    "    if k not in ref_4_scores:\n",
    "        ref_4_scores[k] = {}\n",
    "    for k2 in scores[k]:\n",
    "        if k2!=\"Ref_sentence_New.txt\":\n",
    "            if k2 not in ref_4_scores:\n",
    "                ref_4_scores[k][k2] = {}\n",
    "            print(scores[k][k2])\n",
    "            ref_4_scores[k][k2][\"scores\"]=scores[k][k2]\n",
    "            ref_4_scores[k][k2][\"avg\"] = cal_avg(scores[k][k2])"
   ]
  },
  {
   "cell_type": "code",
   "execution_count": null,
   "metadata": {},
   "outputs": [],
   "source": [
    "ref_4_scores"
   ]
  },
  {
   "cell_type": "code",
   "execution_count": null,
   "metadata": {},
   "outputs": [],
   "source": [
    "import json\n",
    "with open(\"ref_4ref_scores.json\",\"w\") as f:\n",
    "    json.dump(ref_4_scores, f, indent=4)"
   ]
  },
  {
   "cell_type": "code",
   "execution_count": null,
   "metadata": {},
   "outputs": [],
   "source": [
    "ref_4_scores"
   ]
  },
  {
   "cell_type": "code",
   "execution_count": null,
   "metadata": {},
   "outputs": [],
   "source": [
    "(0.02129438790408048-0.013097834180701862 -0.09490415047515523-0.011627814309163527)/4"
   ]
  },
  {
   "cell_type": "code",
   "execution_count": null,
   "metadata": {},
   "outputs": [],
   "source": [
    "ref_4_avg_scores = {}\n",
    "for k in ref_4_scores:\n",
    "    if k not in ref_4_avg_scores:\n",
    "        ref_4_avg_scores[k] = {}\n",
    "    temp = []\n",
    "    for k2 in ref_4_scores[k]:\n",
    "        temp.append(ref_4_scores[k][k2][\"avg\"])\n",
    "    ref_4_avg_scores[k][\"avg\"] = cal_avg(temp)"
   ]
  },
  {
   "cell_type": "code",
   "execution_count": null,
   "metadata": {},
   "outputs": [],
   "source": [
    "ref_4_avg_scores"
   ]
  },
  {
   "cell_type": "code",
   "execution_count": null,
   "metadata": {},
   "outputs": [],
   "source": [
    "with open(\"ref_4_scores.txt\", \"w\") as f:\n",
    "    for k in ref_4_scores:\n",
    "        f.write(k+\"\\t\"+str(ref_4_avg_scores[k][\"avg\"])+\"\\n\")"
   ]
  },
  {
   "cell_type": "code",
   "execution_count": null,
   "metadata": {},
   "outputs": [],
   "source": []
  }
 ],
 "metadata": {
  "kernelspec": {
   "display_name": "Python 3",
   "language": "python",
   "name": "python3"
  },
  "language_info": {
   "codemirror_mode": {
    "name": "ipython",
    "version": 3
   },
   "file_extension": ".py",
   "mimetype": "text/x-python",
   "name": "python",
   "nbconvert_exporter": "python",
   "pygments_lexer": "ipython3",
   "version": "3.6.5"
  }
 },
 "nbformat": 4,
 "nbformat_minor": 2
}
